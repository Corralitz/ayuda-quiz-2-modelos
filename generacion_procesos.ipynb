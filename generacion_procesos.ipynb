{
 "cells": [
  {
   "cell_type": "code",
   "execution_count": 211,
   "id": "57721440-7771-4a05-8894-4454fbc57c76",
   "metadata": {},
   "outputs": [
    {
     "name": "stdout",
     "output_type": "stream",
     "text": [
      "-0.13694610585688413\n"
     ]
    }
   ],
   "source": [
    "import numpy as np\n",
    "import math\n",
    "from scipy.stats import rv_continuous, triang, binom\n",
    "\n",
    "class normal_gen(rv_continuous):\n",
    "    def _pdf(self, x):\n",
    "        return np.exp(-x**2/2)/np.sqrt(2*np.pi)\n",
    "\n",
    "norm = normal_gen(name='normal')\n",
    "print(norm.rvs())"
   ]
  },
  {
   "cell_type": "markdown",
   "id": "2f8005ad-cfc5-44f6-b8a2-5ef6323a140a",
   "metadata": {},
   "source": [
    "# **Ejercicio 1:** \n",
    "La producción diaria de un artículo se distribuye triangularmente entre (4500, 6000, 9000) unidades. La fracción \"p\" defectuosa cada día, se distribuye según la siguiente fdp:\n",
    "$$\\mathbf{f(p)=99(1-p)^{98}, \\: 0\\leqslant p \\leqslant 1}$$\n",
    "- Estime la producción neta diaria.\n",
    "- Estime la probabilidad de que el número de unidades defectuosas sea mayor a 150.\n",
    "\n",
    "## Densidad:\n",
    "$$\\mathbf{F(x)=1-(1-p)^{99}, \\: 0\\leqslant p \\leqslant 1}$$\n",
    "\n",
    "## Fraccion:\n",
    "$$\\mathbf{p=1-\\sqrt[99]{1-R}}$$\n"
   ]
  },
  {
   "cell_type": "markdown",
   "id": "2cbdfbca-dec7-409e-8659-2a62b87250f2",
   "metadata": {},
   "source": [
    "## **1. Variables conocidas** "
   ]
  },
  {
   "cell_type": "code",
   "execution_count": 212,
   "id": "ccd7ae43-3e5b-4c79-845f-62e45291a082",
   "metadata": {},
   "outputs": [],
   "source": [
    "a = 4500\n",
    "b = 9000\n",
    "mode = 6000\n",
    "trials = 5000\n",
    "\n",
    "c_param = (mode-a)/(b-a)"
   ]
  },
  {
   "cell_type": "markdown",
   "id": "81cef25c-d8cb-482b-95a7-0a1ca680c5bd",
   "metadata": {},
   "source": [
    "## **2. Entradas inciertas**"
   ]
  },
  {
   "cell_type": "code",
   "execution_count": 213,
   "id": "a7ac3a28-a1c0-47e9-9f8c-8a4c08991cd4",
   "metadata": {},
   "outputs": [],
   "source": [
    "arr_bruta = []\n",
    "arr_defectuosa = []\n",
    "\n",
    "class defectuosa_gen(rv_continuous):\n",
    "    \"Articulos Defectuosas\"\n",
    "    def _pdf(self, x):\n",
    "        return 99*(1-x)**98\n",
    "foo = defectuosa_gen(a=0, b=1)"
   ]
  },
  {
   "cell_type": "markdown",
   "id": "1d01c1fa-16ac-45e1-b287-647086281951",
   "metadata": {},
   "source": [
    "## **3. Cálculos intermedios**"
   ]
  },
  {
   "cell_type": "code",
   "execution_count": 214,
   "id": "3d24d909-ae19-4d71-af89-38af6f34ca49",
   "metadata": {},
   "outputs": [],
   "source": [
    "for _ in range(trials):\n",
    "    frac_defec = foo.rvs()\n",
    "    prod_bruta = triang.rvs(c=c_param, loc=a, scale=b-a, size=1)[0]\n",
    "    prod_defectuosa = binom.rvs(int(prod_bruta), frac_defec)\n",
    "\n",
    "    arr_bruta.append(prod_bruta)\n",
    "    arr_defectuosa.append(prod_defectuosa)"
   ]
  },
  {
   "cell_type": "markdown",
   "id": "5d2b1955-7868-4a0d-a510-a15674636404",
   "metadata": {},
   "source": [
    "## **4. Resultados**"
   ]
  },
  {
   "cell_type": "code",
   "execution_count": 223,
   "id": "0e39783c-7987-412b-be1d-83845f7a519a",
   "metadata": {},
   "outputs": [
    {
     "name": "stdout",
     "output_type": "stream",
     "text": [
      "Resumen Estadistico:\n",
      "\n",
      "Media: 6486.064964109509\n",
      "Varianza: 921.7623848556306\n",
      "Minimo: 4542.979889417272\n",
      "Maximo: 8943.884363447838\n",
      "Mediana: 6384.295162641945\n",
      "\n",
      "P(X>150) = 10.14%\n"
     ]
    }
   ],
   "source": [
    "media_defectuosa = np.mean(arr_defectuosa)\n",
    "media_bruta = np.mean(arr_bruta)\n",
    "\n",
    "print('Resumen Estadistico:\\n')\n",
    "print(f'Media: {media_bruta}')\n",
    "print(f'Varianza: {np.std(arr_bruta)}')\n",
    "print(f'Minimo: {np.min(arr_bruta)}')\n",
    "print(f'Maximo: {np.max(arr_bruta)}')\n",
    "print(f'Mediana: {np.median(arr_bruta)}\\n')\n",
    "print(f'P(X>150) = {(sum([1 for i in arr_defectuosa if i > 150])/trials)*100}%')"
   ]
  }
 ],
 "metadata": {
  "kernelspec": {
   "display_name": "Python 3 (ipykernel)",
   "language": "python",
   "name": "python3"
  },
  "language_info": {
   "codemirror_mode": {
    "name": "ipython",
    "version": 3
   },
   "file_extension": ".py",
   "mimetype": "text/x-python",
   "name": "python",
   "nbconvert_exporter": "python",
   "pygments_lexer": "ipython3",
   "version": "3.12.9"
  }
 },
 "nbformat": 4,
 "nbformat_minor": 5
}
